{
 "cells": [
  {
   "cell_type": "code",
   "execution_count": null,
   "id": "5c15fc68",
   "metadata": {},
   "outputs": [],
   "source": [
    "#  Write a Python Program to Check if a String is a Palindrome or Not? (Note: min two ways to do this)\n",
    "str1=\"1413\"\n",
    "lstr=list(str1)\n",
    "str_len=len(lstr)//2 \n",
    "new_str=list(str1)\n",
    "\n",
    "for i in range(str_len): \n",
    "    lstr[i],lstr[len(lstr)-i-1]=lstr[len(lstr)-i-1] ,lstr[i] # a,b=b,a\n",
    "    \n",
    "if \"\".join(lstr)==\"\".join(new_str): # convert list to str\n",
    "    \n",
    "    print(\"given number is a Palindrome\")\n",
    "else: \n",
    "    print(\"given number is not a Palindrome\")"
   ]
  },
  {
   "cell_type": "code",
   "execution_count": null,
   "id": "0b34be5a",
   "metadata": {},
   "outputs": [],
   "source": [
    "#  Write a Python Program to Check if a String is a Palindrome or Not? (Note: min two ways to do this)\n",
    "str1=\"madam\"\n",
    "lstr=list(str1)\n",
    "str_len=len(lstr)//2 \n",
    "new_str=list(str1)\n",
    "i=0\n",
    "while i<str_len:\n",
    "    lstr[i],lstr[len(lstr)-i-1]=lstr[len(lstr)-i-1] ,new_str[i]\n",
    "    i+=1\n",
    "\n",
    "if  \"\".join(lstr)==\"\".join(new_str): \n",
    "    print(\"given number is a Palindrome\")\n",
    "else: \n",
    "    print(\"given number is not a Palindrome\")"
   ]
  },
  {
   "cell_type": "code",
   "execution_count": null,
   "id": "0dcd3991",
   "metadata": {},
   "outputs": [],
   "source": [
    "#Write a Python Program to do the sum of two numbers? (Note: Min two ways to do this)\n",
    "#X and Y >= 2^230\n",
    "#example: x = 1234456721298173917237130479237401340137401837482178037012730917230981029739173840897813\n",
    "#y = 9182108930132182372312082173021730912730971230912093812380182938123091028312841203909123\n",
    "#should not use in-built or x + y\n",
    "\n",
    "num1=list(\"1234456721298173917237130479237401340137401837482178037012730917230981029739173840897813\")\n",
    "num2=list(\"9182108930132182372312082173021730912730971230912093812380182938123091028312841203909123\")\n",
    "borrow=''\n",
    "output=''\n",
    "a=0\n",
    "b=0\n",
    "add1=''\n",
    "\n",
    "\n",
    "len1=len(num1)\n",
    "len2=len(num2)\n",
    "if len1<len2:\n",
    "    num1,num2 = num2,num1 # a,b=b,a\n",
    "    len1=len(num1)\n",
    "    len2=len(num2)\n",
    "print(\"len\"+str(len1))\n",
    "print(\"len\"+str(len2))\n",
    "\n",
    "for i in range(len1-1,-1,-1):\n",
    "    print(\"first \"+num1[i])\n",
    "    a=int(num1[i])\n",
    "   \n",
    "    while len2>0:\n",
    "            len2=len2-1\n",
    "            print(\"Second \"+num2[len2])\n",
    "            b=int(num2[len2])\n",
    "            break\n",
    "    else:\n",
    "        b=0\n",
    "    print(\"---\")\n",
    "    if borrow=='' :\n",
    "        add1=str(a+b)\n",
    "        output=(add1)[-1]+output\n",
    "        print(\"addition\"+output)\n",
    "        if len(add1)==2:\n",
    "            borrow=(add1)[-2]\n",
    "            print(\"borrow\"+borrow)\n",
    "        else:\n",
    "            borrow=\"\"\n",
    "    else:\n",
    "        print(\"borrow\"+borrow)\n",
    "        add1=str(a+b+int(borrow))\n",
    "        output=add1[-1]+output\n",
    "        print(\"addition \"+output)\n",
    "        if len(add1)==2:\n",
    "            borrow=(add1)[-2]\n",
    "            print(\"borrow\"+borrow)\n",
    "        else:\n",
    "            borrow=\"\"\n",
    "    print(\"---\")\n",
    "    \n",
    "print(\"final output\"+output)"
   ]
  },
  {
   "cell_type": "code",
   "execution_count": null,
   "id": "c6a4222a",
   "metadata": {},
   "outputs": [],
   "source": [
    " "
   ]
  },
  {
   "cell_type": "code",
   "execution_count": null,
   "id": "72362ca5",
   "metadata": {},
   "outputs": [],
   "source": []
  },
  {
   "cell_type": "code",
   "execution_count": null,
   "id": "2d36410e",
   "metadata": {},
   "outputs": [],
   "source": [
    "#. Write a Python Program to Check Common Letters in Two Input Strings? (Note: min two ways to do this)\n",
    "#Hint 1: using a set operation\n",
    "\n",
    "print(list(set(\"somas\")))\n",
    "print(list(set(\"sundari\")))\n",
    "list(set(\"somas\") & set(\"sundari\") )"
   ]
  },
  {
   "cell_type": "code",
   "execution_count": null,
   "id": "1426b77f",
   "metadata": {},
   "outputs": [],
   "source": [
    "#. Write a Python Program to Check Common Letters in Two Input Strings? (Note: min two ways to do this)\n",
    "#Hint 1: Hint 2: for loop\n",
    "\n",
    "input1=set(\"soma\")\n",
    "input2=set(\"sundari\")\n",
    "\n",
    "for i in input1:\n",
    "    if i in input2:\n",
    "        print(i)\n",
    "\n"
   ]
  },
  {
   "cell_type": "code",
   "execution_count": 6,
   "id": "babd9c02",
   "metadata": {},
   "outputs": [
    {
     "name": "stdout",
     "output_type": "stream",
     "text": [
      "given input is anagram\n",
      "given input is anagram\n",
      "given input is anagram\n",
      "given input is anagram\n",
      "given input is anagram\n"
     ]
    }
   ],
   "source": [
    "#Write a Python Program to Check whether two Strings are Anagrams or not? (Note: Min two ways to do this)\n",
    "#Example:\n",
    "#string 1 = taste\n",
    "#string 2 = state\n",
    "#taste and state are anagrams\n",
    "#every letter in string 1 should be present in string 2 and vice versa\n",
    "\n",
    "input1=\"taste\"\n",
    "input2=\"state\"\n",
    "\n",
    "if len(input1)>len(input2):\n",
    "    for i in input1:\n",
    "        if i in input2:\n",
    "            print(\"given input is anagram\")\n",
    "        else:\n",
    "            print(\"given input is anagram\")\n",
    "            break\n",
    "else:\n",
    "    for i in input2:\n",
    "        if i in input1:\n",
    "            print(\"given input is anagram\")\n",
    "        else:\n",
    "            print(\"given input is anagram\")\n",
    "            break\n",
    "            \n",
    "\n"
   ]
  },
  {
   "cell_type": "code",
   "execution_count": 13,
   "id": "13fec5e9",
   "metadata": {},
   "outputs": [
    {
     "name": "stdout",
     "output_type": "stream",
     "text": [
      "2 2\n",
      "3 3\n",
      "5 4\n",
      "4\n"
     ]
    }
   ],
   "source": [
    "#Write a Python program to find missing numbers from a sorted list?\n",
    "\n",
    "list_num=[1,2,3,5,6]\n",
    "temp=list_num[0]+1\n",
    "for i in list_num[1:]:\n",
    "    print(i,temp)\n",
    "    if i != temp:\n",
    "        print(temp)\n",
    "        break\n",
    "    temp +=1\n"
   ]
  },
  {
   "cell_type": "code",
   "execution_count": 20,
   "id": "19c9bfb4",
   "metadata": {},
   "outputs": [
    {
     "name": "stdout",
     "output_type": "stream",
     "text": [
      "4\n"
     ]
    }
   ],
   "source": [
    "#Write a Python program to find missing numbers from a sorted list?\n",
    "#n(n+1)/2\n",
    "\n",
    "a=[1,2,3,5,6]\n",
    "c=a[-1]*(a[-1]+1)//2\n",
    "\n",
    "b=sum(a)\n",
    "print(c-b)\n"
   ]
  },
  {
   "cell_type": "code",
   "execution_count": 30,
   "id": "0a4340e8",
   "metadata": {},
   "outputs": [
    {
     "name": "stdout",
     "output_type": "stream",
     "text": [
      "1 1\n",
      "2 2\n",
      "3 3\n",
      "4 4\n",
      "5 6\n",
      "5\n"
     ]
    }
   ],
   "source": [
    "#Write a Python program to find missing numbers from a sorted list?\n",
    "\n",
    "list_num=[1,2,3,4,6]\n",
    "k=0\n",
    "\n",
    "for i in range(list_num[0],list_num[-1]):\n",
    "    print(i,list_num[k])\n",
    "   \n",
    "    if i != list_num[k]:\n",
    "        print(i)\n",
    "        break\n",
    "    k +=1\n",
    "    "
   ]
  },
  {
   "cell_type": "code",
   "execution_count": 35,
   "id": "00eb39a2",
   "metadata": {},
   "outputs": [
    {
     "data": {
      "text/plain": [
       "True"
      ]
     },
     "execution_count": 35,
     "metadata": {},
     "output_type": "execute_result"
    }
   ],
   "source": [
    "input1=\"tastee\"\n",
    "input2=\"state\"\n",
    "set(input1)==set(input2)\n"
   ]
  },
  {
   "cell_type": "code",
   "execution_count": null,
   "id": "82045b30",
   "metadata": {},
   "outputs": [],
   "source": []
  }
 ],
 "metadata": {
  "kernelspec": {
   "display_name": "Python 3 (ipykernel)",
   "language": "python",
   "name": "python3"
  },
  "language_info": {
   "codemirror_mode": {
    "name": "ipython",
    "version": 3
   },
   "file_extension": ".py",
   "mimetype": "text/x-python",
   "name": "python",
   "nbconvert_exporter": "python",
   "pygments_lexer": "ipython3",
   "version": "3.9.12"
  }
 },
 "nbformat": 4,
 "nbformat_minor": 5
}
